{
  "nbformat": 4,
  "nbformat_minor": 0,
  "metadata": {
    "colab": {
      "name": "Untitled12.ipynb",
      "provenance": []
    },
    "kernelspec": {
      "name": "python3",
      "display_name": "Python 3"
    },
    "language_info": {
      "name": "python"
    },
    "accelerator": "GPU"
  },
  "cells": [
    {
      "cell_type": "code",
      "execution_count": 1,
      "metadata": {
        "id": "rrZIssgXcNH0"
      },
      "outputs": [],
      "source": [
        "from keras.models import Model\n",
        "from keras.layers import Input, CuDNNLSTM, Dense\n",
        "import numpy as np\n",
        "import pandas as pd\n",
        "from numpy.random import seed\n",
        "seed(1)\n"
      ]
    },
    {
      "cell_type": "code",
      "source": [
        "batch_size = 64  # Batch size for training.\n",
        "epochs = 100  # Number of epochs to train for.\n",
        "latent_dim = 256  # Latent dimensionality of the encoding space.\n",
        "num_samples = 10000  # Number of samples to train on.\n",
        "# Path to the data txt file on disk.\n"
      ],
      "metadata": {
        "id": "pyzvQgNhcUPx"
      },
      "execution_count": 2,
      "outputs": []
    },
    {
      "cell_type": "code",
      "source": [
        "df = pd.read_csv('/content/bul.txt',delimiter='\\t',header = None).iloc[:,:2]\n",
        "df.columns = ['eng','bulg']"
      ],
      "metadata": {
        "id": "2PBoRLIucWLC"
      },
      "execution_count": 3,
      "outputs": []
    },
    {
      "cell_type": "code",
      "source": [
        "df"
      ],
      "metadata": {
        "colab": {
          "base_uri": "https://localhost:8080/",
          "height": 419
        },
        "id": "ZU01_pBkc3A3",
        "outputId": "03dcfce2-f572-4384-c644-50be0a0c5342"
      },
      "execution_count": 4,
      "outputs": [
        {
          "output_type": "execute_result",
          "data": {
            "text/html": [
              "\n",
              "  <div id=\"df-64a34862-44f0-4e86-b676-f2c1e06ff331\">\n",
              "    <div class=\"colab-df-container\">\n",
              "      <div>\n",
              "<style scoped>\n",
              "    .dataframe tbody tr th:only-of-type {\n",
              "        vertical-align: middle;\n",
              "    }\n",
              "\n",
              "    .dataframe tbody tr th {\n",
              "        vertical-align: top;\n",
              "    }\n",
              "\n",
              "    .dataframe thead th {\n",
              "        text-align: right;\n",
              "    }\n",
              "</style>\n",
              "<table border=\"1\" class=\"dataframe\">\n",
              "  <thead>\n",
              "    <tr style=\"text-align: right;\">\n",
              "      <th></th>\n",
              "      <th>eng</th>\n",
              "      <th>bulg</th>\n",
              "    </tr>\n",
              "  </thead>\n",
              "  <tbody>\n",
              "    <tr>\n",
              "      <th>0</th>\n",
              "      <td>Hi.</td>\n",
              "      <td>Здрасти.</td>\n",
              "    </tr>\n",
              "    <tr>\n",
              "      <th>1</th>\n",
              "      <td>Who?</td>\n",
              "      <td>Кой?</td>\n",
              "    </tr>\n",
              "    <tr>\n",
              "      <th>2</th>\n",
              "      <td>Wow!</td>\n",
              "      <td>Уау!</td>\n",
              "    </tr>\n",
              "    <tr>\n",
              "      <th>3</th>\n",
              "      <td>Hello!</td>\n",
              "      <td>Здравейте!</td>\n",
              "    </tr>\n",
              "    <tr>\n",
              "      <th>4</th>\n",
              "      <td>Cheers!</td>\n",
              "      <td>Наздраве!</td>\n",
              "    </tr>\n",
              "    <tr>\n",
              "      <th>...</th>\n",
              "      <td>...</td>\n",
              "      <td>...</td>\n",
              "    </tr>\n",
              "    <tr>\n",
              "      <th>15160</th>\n",
              "      <td>Latin Americans know very little about the his...</td>\n",
              "      <td>Латиноамериканците знаят много малко за истори...</td>\n",
              "    </tr>\n",
              "    <tr>\n",
              "      <th>15161</th>\n",
              "      <td>The difference between the right word and almo...</td>\n",
              "      <td>Разликата между правилната дума и почти правил...</td>\n",
              "    </tr>\n",
              "    <tr>\n",
              "      <th>15162</th>\n",
              "      <td>Honey, I know the budget is tight, but do you ...</td>\n",
              "      <td>Скъпи, знам, че бюджетът ни е ограничен, но ка...</td>\n",
              "    </tr>\n",
              "    <tr>\n",
              "      <th>15163</th>\n",
              "      <td>Though Tom's English seems quite good at times...</td>\n",
              "      <td>Въпреки че понякога английският на Том изглежд...</td>\n",
              "    </tr>\n",
              "    <tr>\n",
              "      <th>15164</th>\n",
              "      <td>Since there are usually multiple websites on a...</td>\n",
              "      <td>Понеже обикновено могат да се намерят много уе...</td>\n",
              "    </tr>\n",
              "  </tbody>\n",
              "</table>\n",
              "<p>15165 rows × 2 columns</p>\n",
              "</div>\n",
              "      <button class=\"colab-df-convert\" onclick=\"convertToInteractive('df-64a34862-44f0-4e86-b676-f2c1e06ff331')\"\n",
              "              title=\"Convert this dataframe to an interactive table.\"\n",
              "              style=\"display:none;\">\n",
              "        \n",
              "  <svg xmlns=\"http://www.w3.org/2000/svg\" height=\"24px\"viewBox=\"0 0 24 24\"\n",
              "       width=\"24px\">\n",
              "    <path d=\"M0 0h24v24H0V0z\" fill=\"none\"/>\n",
              "    <path d=\"M18.56 5.44l.94 2.06.94-2.06 2.06-.94-2.06-.94-.94-2.06-.94 2.06-2.06.94zm-11 1L8.5 8.5l.94-2.06 2.06-.94-2.06-.94L8.5 2.5l-.94 2.06-2.06.94zm10 10l.94 2.06.94-2.06 2.06-.94-2.06-.94-.94-2.06-.94 2.06-2.06.94z\"/><path d=\"M17.41 7.96l-1.37-1.37c-.4-.4-.92-.59-1.43-.59-.52 0-1.04.2-1.43.59L10.3 9.45l-7.72 7.72c-.78.78-.78 2.05 0 2.83L4 21.41c.39.39.9.59 1.41.59.51 0 1.02-.2 1.41-.59l7.78-7.78 2.81-2.81c.8-.78.8-2.07 0-2.86zM5.41 20L4 18.59l7.72-7.72 1.47 1.35L5.41 20z\"/>\n",
              "  </svg>\n",
              "      </button>\n",
              "      \n",
              "  <style>\n",
              "    .colab-df-container {\n",
              "      display:flex;\n",
              "      flex-wrap:wrap;\n",
              "      gap: 12px;\n",
              "    }\n",
              "\n",
              "    .colab-df-convert {\n",
              "      background-color: #E8F0FE;\n",
              "      border: none;\n",
              "      border-radius: 50%;\n",
              "      cursor: pointer;\n",
              "      display: none;\n",
              "      fill: #1967D2;\n",
              "      height: 32px;\n",
              "      padding: 0 0 0 0;\n",
              "      width: 32px;\n",
              "    }\n",
              "\n",
              "    .colab-df-convert:hover {\n",
              "      background-color: #E2EBFA;\n",
              "      box-shadow: 0px 1px 2px rgba(60, 64, 67, 0.3), 0px 1px 3px 1px rgba(60, 64, 67, 0.15);\n",
              "      fill: #174EA6;\n",
              "    }\n",
              "\n",
              "    [theme=dark] .colab-df-convert {\n",
              "      background-color: #3B4455;\n",
              "      fill: #D2E3FC;\n",
              "    }\n",
              "\n",
              "    [theme=dark] .colab-df-convert:hover {\n",
              "      background-color: #434B5C;\n",
              "      box-shadow: 0px 1px 3px 1px rgba(0, 0, 0, 0.15);\n",
              "      filter: drop-shadow(0px 1px 2px rgba(0, 0, 0, 0.3));\n",
              "      fill: #FFFFFF;\n",
              "    }\n",
              "  </style>\n",
              "\n",
              "      <script>\n",
              "        const buttonEl =\n",
              "          document.querySelector('#df-64a34862-44f0-4e86-b676-f2c1e06ff331 button.colab-df-convert');\n",
              "        buttonEl.style.display =\n",
              "          google.colab.kernel.accessAllowed ? 'block' : 'none';\n",
              "\n",
              "        async function convertToInteractive(key) {\n",
              "          const element = document.querySelector('#df-64a34862-44f0-4e86-b676-f2c1e06ff331');\n",
              "          const dataTable =\n",
              "            await google.colab.kernel.invokeFunction('convertToInteractive',\n",
              "                                                     [key], {});\n",
              "          if (!dataTable) return;\n",
              "\n",
              "          const docLinkHtml = 'Like what you see? Visit the ' +\n",
              "            '<a target=\"_blank\" href=https://colab.research.google.com/notebooks/data_table.ipynb>data table notebook</a>'\n",
              "            + ' to learn more about interactive tables.';\n",
              "          element.innerHTML = '';\n",
              "          dataTable['output_type'] = 'display_data';\n",
              "          await google.colab.output.renderOutput(dataTable, element);\n",
              "          const docLink = document.createElement('div');\n",
              "          docLink.innerHTML = docLinkHtml;\n",
              "          element.appendChild(docLink);\n",
              "        }\n",
              "      </script>\n",
              "    </div>\n",
              "  </div>\n",
              "  "
            ],
            "text/plain": [
              "                                                     eng                                               bulg\n",
              "0                                                    Hi.                                           Здрасти.\n",
              "1                                                   Who?                                               Кой?\n",
              "2                                                   Wow!                                               Уау!\n",
              "3                                                 Hello!                                         Здравейте!\n",
              "4                                                Cheers!                                          Наздраве!\n",
              "...                                                  ...                                                ...\n",
              "15160  Latin Americans know very little about the his...  Латиноамериканците знаят много малко за истори...\n",
              "15161  The difference between the right word and almo...  Разликата между правилната дума и почти правил...\n",
              "15162  Honey, I know the budget is tight, but do you ...  Скъпи, знам, че бюджетът ни е ограничен, но ка...\n",
              "15163  Though Tom's English seems quite good at times...  Въпреки че понякога английският на Том изглежд...\n",
              "15164  Since there are usually multiple websites on a...  Понеже обикновено могат да се намерят много уе...\n",
              "\n",
              "[15165 rows x 2 columns]"
            ]
          },
          "metadata": {},
          "execution_count": 4
        }
      ]
    },
    {
      "cell_type": "code",
      "source": [
        "input_texts = []\n",
        "target_texts = []\n",
        "input_characters = set()\n",
        "target_characters = set()\n",
        "\n",
        "# Loop over lines\n",
        "for line in df.iterrows():\n",
        "    # Input and target are split by tabs\n",
        "    # English TAB French\n",
        "    input_text = line[1]['eng']\n",
        "    target_text = line[1]['bulg']\n",
        "    \n",
        "    # We use \"tab\" as the \"start sequence\" character\n",
        "    # for the targets, and \"\\n\" as \"end sequence\" character.\n",
        "    target_text = '\\t' + target_text + '\\n'\n",
        "    input_texts.append(input_text)\n",
        "    target_texts.append(target_text)\n",
        "    \n",
        "    # Create a set of all unique characters in the input\n",
        "    for char in input_text:\n",
        "        if char not in input_characters:\n",
        "            input_characters.add(char)\n",
        "            \n",
        "    # Create a set of all unique output characters\n",
        "    for char in target_text:\n",
        "        if char not in target_characters:\n",
        "            target_characters.add(char)\n",
        "\n",
        "print('Number of samples:', len(input_texts))"
      ],
      "metadata": {
        "colab": {
          "base_uri": "https://localhost:8080/"
        },
        "id": "QksaSARBc9qm",
        "outputId": "c53d6361-f325-4851-e3b1-ad76f11de0a4"
      },
      "execution_count": 5,
      "outputs": [
        {
          "output_type": "stream",
          "name": "stdout",
          "text": [
            "Number of samples: 15165\n"
          ]
        }
      ]
    },
    {
      "cell_type": "code",
      "source": [
        "input_characters = sorted(list(input_characters)) # Make sure we achieve the same order in our input chars\n",
        "target_characters = sorted(list(target_characters))\n",
        "num_encoder_tokens = len(input_characters) # aka size of the english alphabet + numbers, signs, etc.\n",
        "num_decoder_tokens = len(target_characters) # aka size of the french alphabet + numbers, signs, etc.\n",
        "\n",
        "\n",
        "print('Number of unique input tokens:', num_encoder_tokens)\n",
        "print('Number of unique output tokens:', num_decoder_tokens)"
      ],
      "metadata": {
        "colab": {
          "base_uri": "https://localhost:8080/"
        },
        "id": "A8ei5ymHdZ16",
        "outputId": "15cab7d9-8865-475c-bdfd-eed789f450ac"
      },
      "execution_count": 6,
      "outputs": [
        {
          "output_type": "stream",
          "name": "stdout",
          "text": [
            "Number of unique input tokens: 73\n",
            "Number of unique output tokens: 104\n"
          ]
        }
      ]
    },
    {
      "cell_type": "code",
      "source": [
        "input_token_index = {char: i for i, char in enumerate(input_characters)}\n",
        "target_token_index = {char: i for i, char in enumerate(target_characters)}"
      ],
      "metadata": {
        "id": "YXVmKimJdeZi"
      },
      "execution_count": 7,
      "outputs": []
    },
    {
      "cell_type": "code",
      "source": [
        "max_encoder_seq_length = max([len(txt) for txt in input_texts]) # Get longest sequences length\n",
        "max_decoder_seq_length = max([len(txt) for txt in target_texts])\n",
        "\n",
        "print('Max sequence length for inputs:', max_encoder_seq_length)\n",
        "print('Max sequence length for outputs:', max_decoder_seq_length)"
      ],
      "metadata": {
        "colab": {
          "base_uri": "https://localhost:8080/"
        },
        "id": "cZ14ml6sdgGP",
        "outputId": "fe511d18-0f59-4901-c462-d461431d561f"
      },
      "execution_count": 8,
      "outputs": [
        {
          "output_type": "stream",
          "name": "stdout",
          "text": [
            "Max sequence length for inputs: 239\n",
            "Max sequence length for outputs: 264\n"
          ]
        }
      ]
    },
    {
      "cell_type": "code",
      "source": [
        "encoder_input_data = np.zeros(\n",
        "    (len(input_texts), max_encoder_seq_length, num_encoder_tokens),\n",
        "    dtype='float32')\n",
        "\n",
        "# decoder_input_data is a 3D array of shape (num_pairs, max_french_sentence_length, num_french_characters) \n",
        "# containg a one-hot vectorization of the French sentences.\n",
        "\n",
        "decoder_input_data = np.zeros(\n",
        "    (len(input_texts), max_decoder_seq_length, num_decoder_tokens),\n",
        "    dtype='float32')\n",
        "\n",
        "# decoder_target_data is the same as decoder_input_data but offset by one timestep. \n",
        "# decoder_target_data[:, t, :] will be the same as decoder_input_data[:, t + 1, :]\n",
        "\n",
        "decoder_target_data = np.zeros(\n",
        "    (len(input_texts), max_decoder_seq_length, num_decoder_tokens),\n",
        "    dtype='float32')"
      ],
      "metadata": {
        "id": "88AmYPw8dipG"
      },
      "execution_count": 9,
      "outputs": []
    },
    {
      "cell_type": "code",
      "source": [
        "for i, (input_text, target_text) in enumerate(zip(input_texts, target_texts)):\n",
        "    # Loop over each char in an input text\n",
        "    for t, char in enumerate(input_text):\n",
        "        # Create one hot encoding by setting the index to 1\n",
        "        encoder_input_data[i, t, input_token_index[char]] = 1.\n",
        "    # Loop over each char in the output text\n",
        "    for t, char in enumerate(target_text):\n",
        "        # decoder_target_data is ahead of decoder_input_data by one timestep\n",
        "        decoder_input_data[i, t, target_token_index[char]] = 1.\n",
        "        if t > 0:\n",
        "            # decoder_target_data will be ahead by one timestep\n",
        "            # and will not include the start character.\n",
        "            decoder_target_data[i, t - 1, target_token_index[char]] = 1."
      ],
      "metadata": {
        "id": "XpLk3Jbudk4q"
      },
      "execution_count": 10,
      "outputs": []
    },
    {
      "cell_type": "code",
      "source": [
        "encoder_inputs = Input(shape=(None, num_encoder_tokens), \n",
        "                       name = 'encoder_inputs')\n",
        "\n",
        "# The return_state contructor argument, configuring a RNN layer to return a list \n",
        "# where the first entry is the outputs and the next entries are the internal RNN states. \n",
        "# This is used to recover the states of the encoder.\n",
        "encoder = CuDNNLSTM(latent_dim, \n",
        "                    return_state=True, \n",
        "                    name = 'encoder')\n",
        "\n",
        "encoder_outputs, state_h, state_c = encoder(encoder_inputs)\n",
        "# We discard `encoder_outputs` and only keep the states.\n",
        "encoder_states = [state_h, state_c]\n",
        "\n",
        "# Set up the decoder, using `encoder_states` as initial state.\n",
        "decoder_inputs = Input(shape=(None, num_decoder_tokens), \n",
        "                       name = 'decoder_inputs')\n",
        "\n",
        "# We set up our decoder to return full output sequences,\n",
        "# and to return internal states as well. We don't use the\n",
        "# return states in the training model, but we will use them in inference.\n",
        "decoder_lstm = CuDNNLSTM(latent_dim, \n",
        "                         return_sequences=True, \n",
        "                         return_state=True, \n",
        "                         name = 'decoder_lstm')\n",
        "\n",
        "# The inital_state call argument, specifying the initial state(s) of a RNN. \n",
        "# This is used to pass the encoder states to the decoder as initial states.\n",
        "# Basically making the first memory of the decoder the encoded semantics\n",
        "decoder_outputs, _, _ = decoder_lstm(decoder_inputs,\n",
        "                                     initial_state=encoder_states)\n",
        "\n",
        "decoder_dense = Dense(num_decoder_tokens, \n",
        "                      activation='softmax', \n",
        "                      name = 'decoder_dense')\n",
        "decoder_outputs = decoder_dense(decoder_outputs)\n",
        "\n",
        "# Define the model that will turn\n",
        "# `encoder_input_data` & `decoder_input_data` into `decoder_target_data`\n",
        "model = Model([encoder_inputs, decoder_inputs], decoder_outputs)"
      ],
      "metadata": {
        "id": "RCETQ1a6dmV2"
      },
      "execution_count": 11,
      "outputs": []
    },
    {
      "cell_type": "code",
      "source": [
        "model.compile(optimizer='rmsprop', loss='categorical_crossentropy')\n",
        "history = model.fit([encoder_input_data, decoder_input_data], \n",
        "                    decoder_target_data,\n",
        "                    batch_size=batch_size,\n",
        "                    epochs=40,\n",
        "                    validation_split=0.2)"
      ],
      "metadata": {
        "colab": {
          "base_uri": "https://localhost:8080/"
        },
        "id": "mHWJWPn6doSn",
        "outputId": "5ffc1f5f-43ab-4812-a107-95a382ec2136"
      },
      "execution_count": 12,
      "outputs": [
        {
          "output_type": "stream",
          "name": "stdout",
          "text": [
            "Epoch 1/40\n",
            "190/190 [==============================] - 42s 176ms/step - loss: 0.3467 - val_loss: 0.6942\n",
            "Epoch 2/40\n",
            "190/190 [==============================] - 31s 164ms/step - loss: 0.3307 - val_loss: 0.6588\n",
            "Epoch 3/40\n",
            "190/190 [==============================] - 31s 163ms/step - loss: 0.3158 - val_loss: 0.5878\n",
            "Epoch 4/40\n",
            "190/190 [==============================] - 31s 165ms/step - loss: 0.2992 - val_loss: 0.6646\n",
            "Epoch 5/40\n",
            "190/190 [==============================] - 31s 163ms/step - loss: 0.2821 - val_loss: 0.5057\n",
            "Epoch 6/40\n",
            "190/190 [==============================] - 31s 164ms/step - loss: 0.2686 - val_loss: 0.5481\n",
            "Epoch 7/40\n",
            "190/190 [==============================] - 31s 164ms/step - loss: 0.2595 - val_loss: 0.5801\n",
            "Epoch 8/40\n",
            "190/190 [==============================] - 31s 164ms/step - loss: 0.2501 - val_loss: 0.5537\n",
            "Epoch 9/40\n",
            "190/190 [==============================] - 31s 163ms/step - loss: 0.2425 - val_loss: 0.5186\n",
            "Epoch 10/40\n",
            "190/190 [==============================] - 31s 164ms/step - loss: 0.2363 - val_loss: 0.4520\n",
            "Epoch 11/40\n",
            "190/190 [==============================] - 31s 164ms/step - loss: 0.2292 - val_loss: 0.4615\n",
            "Epoch 12/40\n",
            "190/190 [==============================] - 31s 164ms/step - loss: 0.2240 - val_loss: 0.4407\n",
            "Epoch 13/40\n",
            "190/190 [==============================] - 31s 163ms/step - loss: 0.2195 - val_loss: 0.4385\n",
            "Epoch 14/40\n",
            "190/190 [==============================] - 31s 163ms/step - loss: 0.2153 - val_loss: 0.4320\n",
            "Epoch 15/40\n",
            "190/190 [==============================] - 31s 164ms/step - loss: 0.2120 - val_loss: 0.4335\n",
            "Epoch 16/40\n",
            "190/190 [==============================] - 31s 163ms/step - loss: 0.2090 - val_loss: 0.4295\n",
            "Epoch 17/40\n",
            "190/190 [==============================] - 31s 164ms/step - loss: 0.2065 - val_loss: 0.4189\n",
            "Epoch 18/40\n",
            "190/190 [==============================] - 31s 164ms/step - loss: 0.2042 - val_loss: 0.4253\n",
            "Epoch 19/40\n",
            "190/190 [==============================] - 32s 168ms/step - loss: 0.2021 - val_loss: 0.4109\n",
            "Epoch 20/40\n",
            "190/190 [==============================] - 32s 169ms/step - loss: 0.2005 - val_loss: 0.4101\n",
            "Epoch 21/40\n",
            "190/190 [==============================] - 32s 167ms/step - loss: 0.1986 - val_loss: 0.4032\n",
            "Epoch 22/40\n",
            "190/190 [==============================] - 31s 164ms/step - loss: 0.1966 - val_loss: 0.3997\n",
            "Epoch 23/40\n",
            "190/190 [==============================] - 31s 165ms/step - loss: 0.1953 - val_loss: 0.4012\n",
            "Epoch 24/40\n",
            "190/190 [==============================] - 31s 164ms/step - loss: 0.1948 - val_loss: 0.3999\n",
            "Epoch 25/40\n",
            "190/190 [==============================] - 32s 166ms/step - loss: 0.1932 - val_loss: 0.4059\n",
            "Epoch 26/40\n",
            "190/190 [==============================] - 31s 164ms/step - loss: 0.1919 - val_loss: 0.4039\n",
            "Epoch 27/40\n",
            "190/190 [==============================] - 31s 164ms/step - loss: 0.1907 - val_loss: 0.3994\n",
            "Epoch 28/40\n",
            "190/190 [==============================] - 31s 164ms/step - loss: 0.1896 - val_loss: 0.3957\n",
            "Epoch 29/40\n",
            "190/190 [==============================] - 31s 164ms/step - loss: 0.1888 - val_loss: 0.3954\n",
            "Epoch 30/40\n",
            "190/190 [==============================] - 31s 164ms/step - loss: 0.1878 - val_loss: 0.3951\n",
            "Epoch 31/40\n",
            "190/190 [==============================] - 31s 164ms/step - loss: 0.1870 - val_loss: 0.3890\n",
            "Epoch 32/40\n",
            "190/190 [==============================] - 31s 165ms/step - loss: 0.1861 - val_loss: 0.3862\n",
            "Epoch 33/40\n",
            "190/190 [==============================] - 31s 164ms/step - loss: 0.1854 - val_loss: 0.3981\n",
            "Epoch 34/40\n",
            "190/190 [==============================] - 31s 163ms/step - loss: 0.1848 - val_loss: 0.3879\n",
            "Epoch 35/40\n",
            "190/190 [==============================] - 31s 163ms/step - loss: 0.1840 - val_loss: 0.3861\n",
            "Epoch 36/40\n",
            "190/190 [==============================] - 31s 163ms/step - loss: 0.1835 - val_loss: 0.3919\n",
            "Epoch 37/40\n",
            "190/190 [==============================] - 31s 164ms/step - loss: 0.1829 - val_loss: 0.3812\n",
            "Epoch 38/40\n",
            "190/190 [==============================] - 31s 164ms/step - loss: 0.1830 - val_loss: 0.3860\n",
            "Epoch 39/40\n",
            "190/190 [==============================] - 31s 164ms/step - loss: 0.1819 - val_loss: 0.3861\n",
            "Epoch 40/40\n",
            "190/190 [==============================] - 31s 164ms/step - loss: 0.1823 - val_loss: 0.3816\n"
          ]
        }
      ]
    },
    {
      "cell_type": "code",
      "source": [
        "model.save('best.h5')"
      ],
      "metadata": {
        "id": "dNxG0iqCdqb2"
      },
      "execution_count": 13,
      "outputs": []
    },
    {
      "cell_type": "code",
      "source": [
        "import matplotlib.pyplot as plt\n",
        "plt.figure(figsize=(10,7))\n",
        "a, = plt.plot(history.history['loss'],label='Training Loss')\n",
        "b, = plt.plot(history.history['val_loss'],label='Validation Loss')\n",
        "plt.legend(handles=[a,b])\n",
        "plt.show()"
      ],
      "metadata": {
        "colab": {
          "base_uri": "https://localhost:8080/",
          "height": 428
        },
        "id": "ZgyWRIL0eUtY",
        "outputId": "9a6b583f-9faf-4c35-f3b2-4312fca74e7e"
      },
      "execution_count": 14,
      "outputs": [
        {
          "output_type": "display_data",
          "data": {
            "image/png": "[encoded data removed]",
            "text/plain": [
              "<Figure size 720x504 with 1 Axes>"
            ]
          },
          "metadata": {
            "needs_background": "light"
          }
        }
      ]
    },
    {
      "cell_type": "code",
      "source": [
        "encoder_model = Model(encoder_inputs, encoder_states)\n",
        "\n",
        "decoder_state_input_h = Input(shape=(latent_dim,))\n",
        "decoder_state_input_c = Input(shape=(latent_dim,))\n",
        "\n",
        "decoder_states_inputs = [decoder_state_input_h, decoder_state_input_c]\n",
        "\n",
        "decoder_outputs, state_h, state_c = decoder_lstm(\n",
        "    decoder_inputs, initial_state=decoder_states_inputs)\n",
        "decoder_states = [state_h, state_c]\n",
        "decoder_outputs = decoder_dense(decoder_outputs)\n",
        "\n",
        "decoder_model = Model(\n",
        "    [decoder_inputs] + decoder_states_inputs,\n",
        "    [decoder_outputs] + decoder_states)\n",
        "\n",
        "reverse_input_char_index = {i: char \n",
        "                            for char, i in input_token_index.items()}\n",
        "reverse_target_char_index = {i: char \n",
        "                             for char, i in target_token_index.items()}\n",
        "\n",
        "def decode_sequence(input_seq):\n",
        "    # Encode the input as state vectors.\n",
        "    states_value = encoder_model.predict(input_seq)\n",
        "\n",
        "    # Generate empty target sequence of length 1.\n",
        "    target_seq = np.zeros((1, 1, num_decoder_tokens))\n",
        "    # Populate the first character of target sequence with the start character.\n",
        "    target_seq[0, 0, target_token_index['\\t']] = 1.\n",
        "\n",
        "    # Sampling loop for a batch of sequences\n",
        "    # (to simplify, here we assume a batch of size 1).\n",
        "    stop_condition = False\n",
        "    decoded_sentence = ''\n",
        "    \n",
        "    # Loop untill we recieve a stop sign\n",
        "    while not stop_condition:\n",
        "        # Get output and internal states of the decoder \n",
        "        output_tokens, h, c = decoder_model.predict(\n",
        "            [target_seq] + states_value)\n",
        "\n",
        "        # Get the predicted token (the token with the highest score)\n",
        "        sampled_token_index = np.argmax(output_tokens[0, -1, :])\n",
        "        # Get the character belonging to the token\n",
        "        sampled_char = reverse_target_char_index[sampled_token_index]\n",
        "        # Append char to output\n",
        "        decoded_sentence += sampled_char\n",
        "\n",
        "        # Exit condition: either hit max length\n",
        "        # or find stop character.\n",
        "        if (sampled_char == '\\n' or\n",
        "           len(decoded_sentence) > max_decoder_seq_length):\n",
        "            stop_condition = True\n",
        "\n",
        "        # Update the target sequence (of length 1).\n",
        "        target_seq = np.zeros((1, 1, num_decoder_tokens))\n",
        "        target_seq[0, 0, sampled_token_index] = 1.\n",
        "\n",
        "        # Update states\n",
        "        states_value = [h, c]\n",
        "\n",
        "    return decoded_sentence\n",
        "\n",
        "my_text = 'Hello, what are you doing?'\n",
        "placeholder = np.zeros((1,len(my_text)+10,num_encoder_tokens))"
      ],
      "metadata": {
        "id": "O9AvhOsPjqMW"
      },
      "execution_count": 15,
      "outputs": []
    },
    {
      "cell_type": "code",
      "source": [
        "for i, char in enumerate(my_text):\n",
        "    print(i,char, input_token_index[char])\n",
        "    placeholder[0,i,input_token_index[char]] = 1"
      ],
      "metadata": {
        "colab": {
          "base_uri": "https://localhost:8080/"
        },
        "id": "gk4BnFKMj__t",
        "outputId": "93b74b8c-b68d-4cd1-8268-e798255c0905"
      },
      "execution_count": 16,
      "outputs": [
        {
          "output_type": "stream",
          "name": "stdout",
          "text": [
            "0 H 28\n",
            "1 e 49\n",
            "2 l 56\n",
            "3 l 56\n",
            "4 o 59\n",
            "5 , 6\n",
            "6   0\n",
            "7 w 67\n",
            "8 h 52\n",
            "9 a 45\n",
            "10 t 64\n",
            "11   0\n",
            "12 a 45\n",
            "13 r 62\n",
            "14 e 49\n",
            "15   0\n",
            "16 y 69\n",
            "17 o 59\n",
            "18 u 65\n",
            "19   0\n",
            "20 d 48\n",
            "21 o 59\n",
            "22 i 53\n",
            "23 n 58\n",
            "24 g 51\n",
            "25 ? 20\n"
          ]
        }
      ]
    },
    {
      "cell_type": "code",
      "source": [
        "decode_sequence(placeholder)"
      ],
      "metadata": {
        "colab": {
          "base_uri": "https://localhost:8080/",
          "height": 35
        },
        "id": "ptoGaa2BkCjl",
        "outputId": "20649a23-127a-4f4a-f84d-015187179dcb"
      },
      "execution_count": 17,
      "outputs": [
        {
          "output_type": "execute_result",
          "data": {
            "application/vnd.google.colaboratory.intrinsic+json": {
              "type": "string"
            },
            "text/plain": [
              "'Не съм виждала да се се предина се на Том.\\n'"
            ]
          },
          "metadata": {},
          "execution_count": 17
        }
      ]
    },
    {
      "cell_type": "markdown",
      "source": [
        "ну такое(\n"
      ],
      "metadata": {
        "id": "XDOnhJg2kKp9"
      }
    },
    {
      "cell_type": "markdown",
      "source": [
        "Task 2"
      ],
      "metadata": {
        "id": "KDm2qxgcgfT5"
      }
    },
    {
      "cell_type": "code",
      "source": [
        "from __future__ import print_function\n",
        "import os\n",
        "import random\n",
        "import torch\n",
        "import torch.nn as nn\n",
        "import torch.nn.parallel\n",
        "import torch.backends.cudnn as cudnn\n",
        "import torch.optim as optim\n",
        "import torch.utils.data\n",
        "import torchvision.datasets as dset\n",
        "import torchvision.transforms as transforms\n",
        "import torchvision.utils as vutils\n",
        "import matplotlib.pyplot as plt\n",
        "\n",
        "\n",
        "cudnn.benchmark = True\n",
        "manualSeed = random.randint(1, 10000)\n",
        "print(\"Random Seed: \", manualSeed)\n",
        "random.seed(manualSeed)\n",
        "torch.manual_seed(manualSeed)\n",
        "\n",
        "dataset = dset.MNIST(root='/content', download=True, \n",
        "                       transform=transforms.Compose([\n",
        "                           transforms.Resize(28),\n",
        "                           transforms.ToTensor(),\n",
        "                           transforms.Normalize((0.5,), (0.5,)),\n",
        "                       ]))\n",
        "nc=1\n",
        "\n",
        "dataloader = torch.utils.data.DataLoader(dataset, batch_size=32,\n",
        "                                         shuffle=True, num_workers=2)\n",
        "\n",
        "device = 'cuda' if torch.cuda.is_available() else 'cpu'\n",
        "\n",
        "ngpu = 1\n",
        "nz = 100\n",
        "ngf = 64\n",
        "ndf = 64\n",
        "\n",
        "def weights_init(m):\n",
        "    classname = m.__class__.__name__\n",
        "    if classname.find('Conv') != -1:\n",
        "        m.weight.data.normal_(0.0, 0.02)\n",
        "    elif classname.find('BatchNorm') != -1:\n",
        "        m.weight.data.normal_(1.0, 0.02)\n",
        "        m.bias.data.fill_(0)\n",
        "\n",
        "class Generator(nn.Module):\n",
        "    def __init__(self, ngpu, nc=1, nz=100, ngf=64):\n",
        "        super(Generator, self).__init__()\n",
        "        self.ngpu = ngpu\n",
        "        self.main = nn.Sequential(\n",
        "            nn.ConvTranspose2d(     nz, ngf * 8, 4, 1, 0, bias=False),\n",
        "            nn.BatchNorm2d(ngf * 8),\n",
        "            nn.ReLU(True),\n",
        "            nn.ConvTranspose2d(ngf * 8, ngf * 4, 4, 2, 1, bias=False),\n",
        "            nn.BatchNorm2d(ngf * 4),\n",
        "            nn.ReLU(True),\n",
        "            nn.ConvTranspose2d(ngf * 4, ngf * 2, 4, 2, 1, bias=False),\n",
        "            nn.BatchNorm2d(ngf * 2),\n",
        "            nn.ReLU(True),\n",
        "            nn.ConvTranspose2d(ngf * 2,     ngf, 4, 2, 1, bias=False),\n",
        "            nn.BatchNorm2d(ngf),\n",
        "            nn.ReLU(True),\n",
        "            nn.ConvTranspose2d(    ngf,      nc, kernel_size=1, stride=1, padding=2, bias=False),\n",
        "            nn.Tanh()\n",
        "        )\n",
        "\n",
        "    def forward(self, input):\n",
        "        if input.is_cuda and self.ngpu > 1:\n",
        "            output = nn.parallel.data_parallel(self.main, input, range(self.ngpu))\n",
        "        else:\n",
        "            output = self.main(input)\n",
        "        return output\n",
        "\n",
        "netG = Generator(ngpu).to(device)\n",
        "netG.apply(weights_init)\n",
        "print(netG)"
      ],
      "metadata": {
        "colab": {
          "base_uri": "https://localhost:8080/"
        },
        "id": "0zepw-TAggHZ",
        "outputId": "99a18793-0838-4022-85a4-7a2135fd1fbc"
      },
      "execution_count": 13,
      "outputs": [
        {
          "output_type": "stream",
          "name": "stdout",
          "text": [
            "Random Seed:  3586\n",
            "Generator(\n",
            "  (main): Sequential(\n",
            "    (0): ConvTranspose2d(100, 512, kernel_size=(4, 4), stride=(1, 1), bias=False)\n",
            "    (1): BatchNorm2d(512, eps=1e-05, momentum=0.1, affine=True, track_running_stats=True)\n",
            "    (2): ReLU(inplace=True)\n",
            "    (3): ConvTranspose2d(512, 256, kernel_size=(4, 4), stride=(2, 2), padding=(1, 1), bias=False)\n",
            "    (4): BatchNorm2d(256, eps=1e-05, momentum=0.1, affine=True, track_running_stats=True)\n",
            "    (5): ReLU(inplace=True)\n",
            "    (6): ConvTranspose2d(256, 128, kernel_size=(4, 4), stride=(2, 2), padding=(1, 1), bias=False)\n",
            "    (7): BatchNorm2d(128, eps=1e-05, momentum=0.1, affine=True, track_running_stats=True)\n",
            "    (8): ReLU(inplace=True)\n",
            "    (9): ConvTranspose2d(128, 64, kernel_size=(4, 4), stride=(2, 2), padding=(1, 1), bias=False)\n",
            "    (10): BatchNorm2d(64, eps=1e-05, momentum=0.1, affine=True, track_running_stats=True)\n",
            "    (11): ReLU(inplace=True)\n",
            "    (12): ConvTranspose2d(64, 1, kernel_size=(1, 1), stride=(1, 1), padding=(2, 2), bias=False)\n",
            "    (13): Tanh()\n",
            "  )\n",
            ")\n"
          ]
        }
      ]
    },
    {
      "cell_type": "code",
      "source": [
        "class Discriminator(nn.Module):\n",
        "    def __init__(self, ngpu, nc=1, ndf=64):\n",
        "        super(Discriminator, self).__init__()\n",
        "        self.ngpu = ngpu\n",
        "        self.main = nn.Sequential(\n",
        "            # input is (nc) x 64 x 64\n",
        "            nn.Conv2d(nc, ndf, 4, 2, 1, bias=False),\n",
        "            nn.LeakyReLU(0.2, inplace=True),\n",
        "            # state size. (ndf) x 32 x 32\n",
        "            nn.Conv2d(ndf, ndf * 2, 4, 2, 1, bias=False),\n",
        "            nn.BatchNorm2d(ndf * 2),\n",
        "            nn.LeakyReLU(0.2, inplace=True),\n",
        "            # state size. (ndf*2) x 16 x 16\n",
        "            nn.Conv2d(ndf * 2, ndf * 4, 4, 2, 1, bias=False),\n",
        "            nn.BatchNorm2d(ndf * 4),\n",
        "            nn.LeakyReLU(0.2, inplace=True),\n",
        "            # state size. (ndf*4) x 8 x 8\n",
        "            nn.Conv2d(ndf * 4, 1, 4, 2, 1, bias=False),\n",
        "            nn.Sigmoid()\n",
        "        )\n",
        "\n",
        "    def forward(self, input):\n",
        "        if input.is_cuda and self.ngpu > 1:\n",
        "            output = nn.parallel.data_parallel(self.main, input, range(self.ngpu))\n",
        "        else:\n",
        "            output = self.main(input)\n",
        "        return output.view(-1, 1).squeeze(1)\n",
        "\n",
        "netD = Discriminator(ngpu).to(device)\n",
        "netD.apply(weights_init)\n",
        "print(netD)"
      ],
      "metadata": {
        "colab": {
          "base_uri": "https://localhost:8080/"
        },
        "id": "x1L7FlEwkS5v",
        "outputId": "9676abdc-e9fb-452e-9381-922e79014f52"
      },
      "execution_count": 14,
      "outputs": [
        {
          "output_type": "stream",
          "name": "stdout",
          "text": [
            "Discriminator(\n",
            "  (main): Sequential(\n",
            "    (0): Conv2d(1, 64, kernel_size=(4, 4), stride=(2, 2), padding=(1, 1), bias=False)\n",
            "    (1): LeakyReLU(negative_slope=0.2, inplace=True)\n",
            "    (2): Conv2d(64, 128, kernel_size=(4, 4), stride=(2, 2), padding=(1, 1), bias=False)\n",
            "    (3): BatchNorm2d(128, eps=1e-05, momentum=0.1, affine=True, track_running_stats=True)\n",
            "    (4): LeakyReLU(negative_slope=0.2, inplace=True)\n",
            "    (5): Conv2d(128, 256, kernel_size=(4, 4), stride=(2, 2), padding=(1, 1), bias=False)\n",
            "    (6): BatchNorm2d(256, eps=1e-05, momentum=0.1, affine=True, track_running_stats=True)\n",
            "    (7): LeakyReLU(negative_slope=0.2, inplace=True)\n",
            "    (8): Conv2d(256, 1, kernel_size=(4, 4), stride=(2, 2), padding=(1, 1), bias=False)\n",
            "    (9): Sigmoid()\n",
            "  )\n",
            ")\n"
          ]
        }
      ]
    },
    {
      "cell_type": "code",
      "source": [
        "criterion = nn.BCELoss()\n",
        "\n",
        "optimizerD = optim.Adam(netD.parameters(), lr=0.0002, betas=(0.5, 0.999))\n",
        "optimizerG = optim.Adam(netG.parameters(), lr=0.0002, betas=(0.5, 0.999))\n",
        "\n",
        "fixed_noise = torch.randn(64, nz, 1, 1, device=device)\n",
        "real_label = 1\n",
        "fake_label = 0\n",
        "\n",
        "niter = 25\n",
        "import tqdm\n",
        "\n",
        "for epoch in tqdm.tqdm(range(niter)):\n",
        "    for i, data in enumerate(dataloader, 0):\n",
        "        if i>500:\n",
        "          break\n",
        "        netD.zero_grad()\n",
        "        real_cpu = data[0].to(device)\n",
        "        batch_size = real_cpu.size(0)\n",
        "        label = torch.full((batch_size,), real_label, device=device).to(torch.float32)\n",
        "\n",
        "        output = netD(real_cpu).to(torch.float32)\n",
        "        errD_real = criterion(output, label)\n",
        "        errD_real.backward()\n",
        "        D_x = output.mean().item()\n",
        "\n",
        "        # train with fake\n",
        "        noise = torch.randn(batch_size, nz, 1, 1, device=device)\n",
        "        fake = netG(noise)\n",
        "        label.fill_(fake_label)\n",
        "        output = netD(fake.detach())\n",
        "        errD_fake = criterion(output, label)\n",
        "        errD_fake.backward()\n",
        "        D_G_z1 = output.mean().item()\n",
        "        errD = errD_real + errD_fake\n",
        "        optimizerD.step()\n",
        "        netG.zero_grad()\n",
        "        label.fill_(real_label) \n",
        "        output = netD(fake)\n",
        "        errG = criterion(output, label)\n",
        "        errG.backward()\n",
        "        D_G_z2 = output.mean().item()\n",
        "        optimizerG.step()\n",
        "        if i % 100 == 0:\n",
        "            fake = netG(fixed_noise)\n",
        "    torch.save(netG.state_dict(), '/content/weights/netG_epoch_%d.pth' % (epoch))\n",
        "    torch.save(netD.state_dict(), '/content/weights/netD_epoch_%d.pth' % (epoch))\n",
        "\n",
        "num_gpu = 1 if torch.cuda.is_available() else 0\n",
        "\n",
        "# load the models\n",
        "\n",
        "D = Discriminator(ngpu=1).eval()\n",
        "G = Generator(ngpu=1).eval()\n",
        "\n",
        "# load weights\n",
        "if torch.cuda.is_available():\n",
        "    D = D.cuda()\n",
        "    G = G.cuda()\n",
        "\n",
        "batch_size = 25\n",
        "latent_size = 100\n",
        "\n",
        "fixed_noise = torch.randn(batch_size, latent_size, 1, 1)\n",
        "if torch.cuda.is_available():\n",
        "    fixed_noise = fixed_noise.cuda()\n",
        "fake_images = G(fixed_noise)\n",
        "\n",
        "fake_images_np = fake_images.cpu().detach().numpy()\n",
        "fake_images_np = fake_images_np.reshape(fake_images_np.shape[0], 28, 28)\n",
        "R, C = 5, 5\n",
        "for i in range(batch_size):\n",
        "    plt.subplot(R, C, i + 1)\n",
        "    plt.imshow(fake_images_np[i], cmap='gray')\n",
        "plt.show()"
      ],
      "metadata": {
        "colab": {
          "base_uri": "https://localhost:8080/",
          "height": 286
        },
        "id": "ox5p_qJGkgFH",
        "outputId": "70c3a549-6447-46d4-f154-8d878cd6062e"
      },
      "execution_count": 15,
      "outputs": [
        {
          "output_type": "stream",
          "name": "stderr",
          "text": [
            "100%|██████████| 25/25 [10:47<00:00, 25.89s/it]\n"
          ]
        },
        {
          "output_type": "display_data",
          "data": {
            "image/png": "[encoded data removed]",
            "text/plain": [
              "<Figure size 432x288 with 25 Axes>"
            ]
          },
          "metadata": {
            "needs_background": "light"
          }
        }
      ]
    },
    {
      "cell_type": "code",
      "source": [
        ""
      ],
      "metadata": {
        "id": "hirLYVEDk0ak"
      },
      "execution_count": null,
      "outputs": []
    }
  ]
}